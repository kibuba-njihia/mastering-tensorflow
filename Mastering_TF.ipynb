{
  "nbformat": 4,
  "nbformat_minor": 0,
  "metadata": {
    "colab": {
      "provenance": [],
      "authorship_tag": "ABX9TyP9NiGemRakDYTXgAxzrH8M",
      "include_colab_link": true
    },
    "kernelspec": {
      "name": "python3",
      "display_name": "Python 3"
    },
    "language_info": {
      "name": "python"
    }
  },
  "cells": [
    {
      "cell_type": "markdown",
      "metadata": {
        "id": "view-in-github",
        "colab_type": "text"
      },
      "source": [
        "<a href=\"https://colab.research.google.com/github/kibuba-njihia/mastering-tensorflow/blob/main/Mastering_TF.ipynb\" target=\"_parent\"><img src=\"https://colab.research.google.com/assets/colab-badge.svg\" alt=\"Open In Colab\"/></a>"
      ]
    },
    {
      "cell_type": "markdown",
      "source": [
        "# **Connecting to TF Datasets**"
      ],
      "metadata": {
        "id": "NjrbfqGnBnNE"
      }
    },
    {
      "cell_type": "code",
      "source": [
        "import tensorflow as tf\n",
        "import tensorflow_datasets as tfds"
      ],
      "metadata": {
        "id": "Y7ahNSEaBsyd"
      },
      "execution_count": 1,
      "outputs": []
    },
    {
      "cell_type": "code",
      "source": [
        "tfds.list_builders()"
      ],
      "metadata": {
        "id": "PrjolKBiB5e7"
      },
      "execution_count": null,
      "outputs": []
    },
    {
      "cell_type": "markdown",
      "source": [
        "Below is the easiest way to load a TF dataset.\n",
        "Common arguments: split='train', this takes the whole training dataset. You can decide to use a portion of the dataset e.g. split='train[:80%]' which takes the 1st 80% of the training dataset or split='train[80%:]' which takes the last 20% of the training dataset.\n",
        "\n",
        "Datasets in TF are usually already divided into train test splits. Without specifying the % or shard, it takes the defult splits"
      ],
      "metadata": {
        "id": "csKJ-P_8CYAp"
      }
    },
    {
      "cell_type": "code",
      "source": [
        "ds = tfds.load('mnist', split='train', shuffle_files=True)\n",
        "assert isinstance(ds, tf.data.Dataset)\n",
        "print(ds)"
      ],
      "metadata": {
        "collapsed": true,
        "id": "ntQUBG5ACGIO"
      },
      "execution_count": null,
      "outputs": []
    }
  ]
}