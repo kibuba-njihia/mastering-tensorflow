{
  "nbformat": 4,
  "nbformat_minor": 0,
  "metadata": {
    "colab": {
      "provenance": [],
      "authorship_tag": "ABX9TyOvK3tmzLOv5j6Bts6TLc2c",
      "include_colab_link": true
    },
    "kernelspec": {
      "name": "python3",
      "display_name": "Python 3"
    },
    "language_info": {
      "name": "python"
    }
  },
  "cells": [
    {
      "cell_type": "markdown",
      "metadata": {
        "id": "view-in-github",
        "colab_type": "text"
      },
      "source": [
        "<a href=\"https://colab.research.google.com/github/kibuba-njihia/mastering-tensorflow/blob/main/Mastering_TF.ipynb\" target=\"_parent\"><img src=\"https://colab.research.google.com/assets/colab-badge.svg\" alt=\"Open In Colab\"/></a>"
      ]
    },
    {
      "cell_type": "markdown",
      "source": [
        "# **Connecting to TF Datasets**"
      ],
      "metadata": {
        "id": "NjrbfqGnBnNE"
      }
    },
    {
      "cell_type": "code",
      "source": [
        "import tensorflow as tf\n",
        "import tensorflow_datasets as tfds"
      ],
      "metadata": {
        "id": "Y7ahNSEaBsyd"
      },
      "execution_count": null,
      "outputs": []
    },
    {
      "cell_type": "code",
      "source": [
        "tfds.list_builders()"
      ],
      "metadata": {
        "id": "PrjolKBiB5e7"
      },
      "execution_count": null,
      "outputs": []
    },
    {
      "cell_type": "markdown",
      "source": [
        "Below is the easiest way to load a TF dataset.\n",
        "Common arguments: split='train', this takes the whole training dataset. You can decide to use a portion of the dataset e.g. split='train[:80%]' which takes the 1st 80% of the training dataset or split='train[80%:]' which takes the last 20% of the training dataset.\n",
        "\n",
        "Datasets in TF are usually already divided into train test splits. Without specifying the % or shard, it takes the defult splits"
      ],
      "metadata": {
        "id": "csKJ-P_8CYAp"
      }
    },
    {
      "cell_type": "code",
      "source": [
        "ds = tfds.load('mnist', split='train', shuffle_files=True)\n",
        "assert isinstance(ds, tf.data.Dataset)\n",
        "print(ds)"
      ],
      "metadata": {
        "collapsed": true,
        "id": "ntQUBG5ACGIO"
      },
      "execution_count": null,
      "outputs": []
    },
    {
      "cell_type": "markdown",
      "source": [
        "# **Dense Layes**"
      ],
      "metadata": {
        "id": "e9JSC6kJ1DV_"
      }
    },
    {
      "cell_type": "markdown",
      "source": [
        "This is a combination of layers (Each layer is made up of neurons) that are fully connected.\n",
        "\n",
        "Each neuron in a layer is connected to all neurons in the sorrounding layers."
      ],
      "metadata": {
        "id": "5hqMv7Py1dBm"
      }
    },
    {
      "cell_type": "code",
      "source": [],
      "metadata": {
        "id": "GFU_CBtj1vRu"
      },
      "execution_count": null,
      "outputs": []
    },
    {
      "cell_type": "markdown",
      "source": [
        "# **CNNS**"
      ],
      "metadata": {
        "id": "nIVRst6T2MDj"
      }
    },
    {
      "cell_type": "markdown",
      "source": [
        "A CNN is, a network which has at least one convolutional layer.\n",
        "There are 2 basic principles in CNNs: Convolutions & Max pooling.\n",
        "1.   Convolutions: Applying a filter to a new image. e.g. Multiplying a 6x6 matrix by a 3x3 matrix (multiplying the values and adding them to form a new value) to form a new 6x6 matrix.\n",
        "2.   Max Pooling: Process of reducing the size of an input by downsizing e.g. Summarizing a 6 by 6 matrix to a 3 by 3 matrix by passing a 2 by 2 stride that picks the largest value in that stride and using this to form the new 3 by 3 matrix.\n",
        "\n",
        "\n",
        "\n"
      ],
      "metadata": {
        "id": "5jTORyLn2hsn"
      }
    },
    {
      "cell_type": "markdown",
      "source": [],
      "metadata": {
        "id": "qvc2nqmk2hnH"
      }
    },
    {
      "cell_type": "markdown",
      "source": [],
      "metadata": {
        "id": "5d1SveTc2hfn"
      }
    },
    {
      "cell_type": "markdown",
      "source": [],
      "metadata": {
        "id": "cTgR50Wg2hMR"
      }
    },
    {
      "cell_type": "code",
      "source": [
        "\n"
      ],
      "metadata": {
        "id": "EGhju9Pt2fZE"
      },
      "execution_count": null,
      "outputs": []
    }
  ]
}